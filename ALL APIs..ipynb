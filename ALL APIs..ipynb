{
 "cells": [
  {
   "cell_type": "markdown",
   "id": "9484462c",
   "metadata": {},
   "source": [
    "## Gemini."
   ]
  },
  {
   "cell_type": "code",
   "execution_count": 1,
   "id": "f184508b",
   "metadata": {},
   "outputs": [],
   "source": [
    "def geminiai(question):\n",
    "    import  google.generativeai as genai\n",
    "    genai.configure(api_key=\"Your Key here\")\n",
    "    model=genai.GenerativeModel(\"gemini-pro\")\n",
    "    result = model.generate_content(question)\n",
    "    result=result.text\n",
    "        \n",
    "    def to_markdown(text):\n",
    "        from IPython.display import display,Markdown\n",
    "        import textwrap\n",
    "        text=text.replace(\"•\", \"  *\")\n",
    "        return Markdown(textwrap.indent(text, \" >\",lambda _:True))\n",
    "    display(to_markdown(result))"
   ]
  },
  {
   "cell_type": "code",
   "execution_count": 5,
   "id": "7cf3d7cb",
   "metadata": {},
   "outputs": [
    {
     "data": {
      "text/markdown": [
       " >**Python**\n",
       " >\n",
       " >**Overview:**\n",
       " >\n",
       " >Python is a versatile and popular programming language known for its ease of use, readability, and wide range of applications. It is an interpreted language, which means it is executed directly by the interpreter rather than being compiled into machine code.\n",
       " >\n",
       " >**Key Features:**\n",
       " >\n",
       " >* **Simplicity:** Python is designed to be user-friendly and straightforward, with a syntax that resembles natural language.\n",
       " >* **Expressiveness:** It allows for concise code that expresses complex ideas in a clear and readable way.\n",
       " >* **Versatility:** Python is suitable for a wide range of tasks, including web development, data analysis, machine learning, and scripting.\n",
       " >* **Powerful Libraries:** It boasts an extensive ecosystem of third-party libraries that provide functionality in various domains.\n",
       " >* **Community Support:** Python has a vast and active community that provides documentation, tutorials, and support.\n",
       " >\n",
       " >**Applications:**\n",
       " >\n",
       " >Python is widely used in a variety of domains, including:\n",
       " >\n",
       " >* **Web Development:** Flask, Django\n",
       " >* **Data Science:** Pandas, NumPy, scikit-learn\n",
       " >* **Machine Learning:** TensorFlow, PyTorch\n",
       " >* **Web Scraping:** BeautifulSoup, Selenium\n",
       " >* **Automation:** Selenium, Robot Framework\n",
       " >* **System Administration:** Ansible, SaltStack\n",
       " >* **Scripting:** Python can be used for automating repetitive tasks.\n",
       " >\n",
       " >**History:**\n",
       " >\n",
       " >Python was created by Guido van Rossum in the late 1980s. It was originally developed as a successor to the ABC programming language. The first stable release of Python was v1.0 in 1994.\n",
       " >\n",
       " >**Versions:**\n",
       " >\n",
       " >The latest version of Python is Python 3.11, released in December 2022. Python 2.7 is still supported but is gradually being phased out.\n",
       " >\n",
       " >**Advantages:**\n",
       " >\n",
       " >* **Ease of Use:** Python's user-friendly syntax makes it suitable for beginners.\n",
       " >* **Speed of Development:** Rapid prototyping and code reusability contribute to faster development.\n",
       " >* **Cross-Platform:** Python runs on multiple operating systems, including Windows, Linux, and macOS.\n",
       " >* **Open Source:** Python is free and open source, making it accessible to all.\n",
       " >* **Versatile Use Cases:** Python's wide range of libraries and frameworks support a diverse array of applications.\n",
       " >\n",
       " >**Disadvantages:**\n",
       " >\n",
       " >* **Can be Slower:** Python is interpreted, which can lead to performance bottlenecks for computationally intensive tasks.\n",
       " >* **Runtime Errors:** Python's dynamic typing can result in runtime errors that may be difficult to debug.\n",
       " >* **Library Compatibility:** Python versions can have different library compatibilities, which can be a challenge for maintaining code.\n",
       " >* **Lack of Strong Typing:** Python's dynamic typing can lead to data type errors that are not caught during compilation.\n",
       " >* **Limited Parallel Processing:** Python's Global Interpreter Lock (GIL) limits true parallel processing capabilities."
      ],
      "text/plain": [
       "<IPython.core.display.Markdown object>"
      ]
     },
     "metadata": {},
     "output_type": "display_data"
    }
   ],
   "source": [
    "geminiai('Tell me about python')"
   ]
  },
  {
   "cell_type": "markdown",
   "id": "707182ee",
   "metadata": {},
   "source": [
    "## Claude."
   ]
  },
  {
   "cell_type": "code",
   "execution_count": 29,
   "id": "1902dda0",
   "metadata": {},
   "outputs": [],
   "source": [
    "from anthropic import Anthropic\n",
    "\n",
    "client = Anthropic(\n",
    "    api_key=\"Your Key Here\",\n",
    ")\n",
    "\n",
    "def Claude(prompt):\n",
    "    message = client.messages.create(\n",
    "        model=\"claude-3-opus-20240229\",\n",
    "        max_tokens=1000,\n",
    "        temperature=0.0,\n",
    "        messages=[\n",
    "            {\"role\": \"user\", \"content\": prompt}\n",
    "        ]\n",
    "    )\n",
    "\n",
    "    return(message.content[0].text)"
   ]
  },
  {
   "cell_type": "code",
   "execution_count": 30,
   "id": "cc2bda3e",
   "metadata": {},
   "outputs": [
    {
     "data": {
      "text/plain": [
       "'ML stands for Machine Learning, which is a subset of Artificial Intelligence (AI). Machine Learning is a method of teaching computers to learn from data and experience, without being explicitly programmed for each task.\\n\\nIn traditional programming, developers write specific instructions for a computer to follow. In contrast, with Machine Learning, developers create algorithms that allow the computer to learn and improve its performance on a task over time, as it is exposed to more data.\\n\\nKey points about Machine Learning:\\n\\n1. Types of Learning: There are three main types of Machine Learning: supervised learning, unsupervised learning, and reinforcement learning.\\n\\n2. Applications: Machine Learning is used in various fields, such as image and speech recognition, natural language processing, recommendation systems, fraud detection, and self-driving cars.\\n\\n3. Algorithms: Some popular Machine Learning algorithms include linear regression, logistic regression, decision trees, random forests, support vector machines (SVM), and neural networks.\\n\\n4. Data: Machine Learning relies heavily on data. The quality and quantity of data used to train the algorithms significantly impact the performance of the resulting models.\\n\\n5. Training and Testing: Machine Learning models are typically trained on a portion of the available data and then tested on the remaining data to evaluate their performance and generalization ability.\\n\\n6. Overfitting and Underfitting: Two common challenges in Machine Learning are overfitting (when a model learns the noise in the training data and fails to generalize well to new data) and underfitting (when a model is too simple to capture the underlying patterns in the data).\\n\\nMachine Learning is a rapidly growing field with numerous applications across various industries. As data becomes more abundant and computing power increases, the potential for Machine Learning to solve complex problems and automate tasks continues to grow.'"
      ]
     },
     "execution_count": 30,
     "metadata": {},
     "output_type": "execute_result"
    }
   ],
   "source": [
    "Claude('Tell me about ML')"
   ]
  },
  {
   "cell_type": "markdown",
   "id": "15e4e6f8",
   "metadata": {},
   "source": [
    "## Groq.\n"
   ]
  },
  {
   "cell_type": "code",
   "execution_count": 14,
   "id": "776ed706",
   "metadata": {},
   "outputs": [],
   "source": [
    "from groq import Groq\n",
    "\n",
    "client = Groq(\n",
    "    api_key=\"Your Key Here\",\n",
    ")\n",
    "\n",
    "def groq(role,prompt):\n",
    "    response= client.chat.completions.create(\n",
    "        messages=[\n",
    "            {\n",
    "                \"role\": \"system\",\n",
    "                \"content\":role\n",
    "            },\n",
    "            {\n",
    "                \"role\": \"user\",\n",
    "                \"content\":prompt,\n",
    "            }\n",
    "        ],\n",
    "        model=\"mixtral-8x7b-32768\",\n",
    "        temperature = 1,\n",
    "        top_p = 1,\n",
    "        max_tokens = 256,\n",
    "    )\n",
    "    return (response.choices[0].message.content)"
   ]
  },
  {
   "cell_type": "code",
   "execution_count": 15,
   "id": "322d8d0c",
   "metadata": {},
   "outputs": [
    {
     "data": {
      "text/plain": [
       "'Data science is a multidisciplinary field that uses scientific methods, processes, algorithms, and systems to extract knowledge and insights from structured and unstructured data. It combines aspects of several fields, including statistics, data mining, machine learning, and visualization, to analyze and interpret large datasets and make informed decisions.\\n\\nData science involves several steps, including:\\n\\n1. Defining the problem or question to be answered.\\n2. Collecting and cleaning the data.\\n3. Exploring and analyzing the data.\\n4. Building and validating models.\\n5. Communicating the results and insights.\\n\\nData science has many applications in various industries, such as healthcare, finance, retail, and technology. It helps businesses make data-driven decisions, improve customer experiences, optimize operations, and identify new opportunities.\\n\\nData scientists typically have a strong background in statistics, computer science, or a related field. They need to have a solid understanding of data manipulation, machine learning algorithms, and visualization techniques. They should also have good communication skills to explain complex data insights to non-technical stakeholders.'"
      ]
     },
     "execution_count": 15,
     "metadata": {},
     "output_type": "execute_result"
    }
   ],
   "source": [
    "groq(prompt='Tell me about Data Science.', role='Data Scientist')"
   ]
  },
  {
   "cell_type": "markdown",
   "id": "28b34c52",
   "metadata": {},
   "source": [
    "## OpenAI.\n"
   ]
  },
  {
   "cell_type": "code",
   "execution_count": 27,
   "id": "2c1734ad",
   "metadata": {},
   "outputs": [],
   "source": [
    "import openai\n",
    "\n",
    "openai.api_key= 'Your Key Here'\n",
    "\n",
    "def OpenAI(role,prompt):\n",
    "    response=openai.ChatCompletion.create(messages=\n",
    "                               [{'role':'system','content':role,\n",
    "                                 'role':'user','content':prompt}],\n",
    "                               model='gpt-3.5-turbo')\n",
    "    print(response.choices[0].message.content)"
   ]
  },
  {
   "cell_type": "code",
   "execution_count": 28,
   "id": "ac9a8d1b",
   "metadata": {},
   "outputs": [
    {
     "name": "stdout",
     "output_type": "stream",
     "text": [
      "Prompt Engineering is a company that specializes in providing engineering services and solutions to clients in various industries. They offer a range of services including process engineering, design engineering, electrical engineering, mechanical engineering, and project management. Prompt Engineering works with clients to develop customized solutions to meet their specific needs and goals. They have a team of skilled engineers and technical experts who are dedicated to delivering high-quality services and achieving client satisfaction. Prompt Engineering is known for their innovative approach, attention to detail, and commitment to excellence in all aspects of their work.\n"
     ]
    }
   ],
   "source": [
    "OpenAI(prompt='Tell me about prompt Engineering.', role='Prompt Engineer')"
   ]
  },
  {
   "cell_type": "code",
   "execution_count": null,
   "id": "dc0d328b",
   "metadata": {},
   "outputs": [],
   "source": []
  }
 ],
 "metadata": {
  "kernelspec": {
   "display_name": "Python 3 (ipykernel)",
   "language": "python",
   "name": "python3"
  },
  "language_info": {
   "codemirror_mode": {
    "name": "ipython",
    "version": 3
   },
   "file_extension": ".py",
   "mimetype": "text/x-python",
   "name": "python",
   "nbconvert_exporter": "python",
   "pygments_lexer": "ipython3",
   "version": "3.11.5"
  }
 },
 "nbformat": 4,
 "nbformat_minor": 5
}
